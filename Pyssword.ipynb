{
 "cells": [
  {
   "cell_type": "markdown",
   "metadata": {},
   "source": [
    "# Pyssword - a password safe\n",
    "\n",
    "It is convenient to have your passwords stored in a single file for easy access.\n",
    "It is not so convenient to have them easily accessible for people other than you who may use your computer.  \n",
    "I created this simple Python password safe for my own personal use, so that you only need to remember one password (which I'll call key) from now on: the key to your Pyssword safe.\n",
    "It stores your encrypted passwords using a simple encryption algorithm that I made up, and let's you fetch the exact password you are looking for by writing the name of corresponding the website/service.  \n",
    "For example, if your password for your LinkedIn account is 'Ihatepasswords92', you can store it under the name 'LinkedIn', and retrieve it by feeding the program with your key and the string 'LinkedIn'.\n",
    "\n",
    "*Note*: your key will not me recorded anywhere, so make sure you remember it. Also, you could have more than one key for different passwords, but that would defeat the purpose of this program.\n",
    "\n",
    "### Pre-requisites and instructions:\n",
    "You need to have a file named `storage.txt` in the same folder as the script `Pyssword.py`, which is created by exporting this notebook as a script.  \n",
    "Furthermore, the first time you run the script the `storage.txt` must contain the string \"{}\". "
   ]
  },
  {
   "cell_type": "code",
   "execution_count": null,
   "metadata": {},
   "outputs": [],
   "source": [
    "from math import sqrt\n",
    "from getpass import getpass as input_no_echo #This enables inputs without showing what we are writing.\n",
    "import json"
   ]
  },
  {
   "cell_type": "markdown",
   "metadata": {},
   "source": [
    "## Encryption and decryption"
   ]
  },
  {
   "cell_type": "code",
   "execution_count": null,
   "metadata": {},
   "outputs": [],
   "source": [
    "def decrypt(encrypted, key):\n",
    "    '''\n",
    "    Decrypts encrypted using key, retrieving the original password encrypted with encrypt(password, key).\n",
    "    Returns string with decrypted password.\n",
    "    '''\n",
    "    decrypted = ''\n",
    "    for i in range(len(encrypted)): #We must undo what the encryption function does.\n",
    "        char = encrypted[i]\n",
    "        sqrt_unicode = int(sqrt(ord(char))) #Encryption squared the unicode, so we find its square root.\n",
    "        char_decrypted = chr( sqrt_unicode - ord(key[i%len(key)]) ) #Subtracts what the encryption added.\n",
    "        decrypted += char_decrypted #Update the encrypted string\n",
    "    return decrypted"
   ]
  },
  {
   "cell_type": "code",
   "execution_count": null,
   "metadata": {},
   "outputs": [],
   "source": [
    "def encrypt(password, key):\n",
    "    '''\n",
    "    Encrypts password using key.\n",
    "    Method: for each character in password, adds its unicode to the unicode (mod len(key)) of the character in the same position in key, and then squares the result.\n",
    "    Returns string with encryption.\n",
    "    '''\n",
    "    encrypted = ''\n",
    "    for i in range(len(password)):\n",
    "        char = password[i]\n",
    "        addition_unicode = ord(char) + ord(key[i%len(key)]) #The modulo operation makes it so that i cycles through key: it's OK to have len(key)<len(password). \n",
    "        char_encrypted = chr( addition_unicode**2 )\n",
    "        encrypted += char_encrypted #Update the encrypted string\n",
    "    return encrypted"
   ]
  },
  {
   "cell_type": "markdown",
   "metadata": {},
   "source": [
    "## UI and processing inputs"
   ]
  },
  {
   "cell_type": "code",
   "execution_count": null,
   "metadata": {},
   "outputs": [],
   "source": [
    "def initialize_safe():\n",
    "    global key\n",
    "    key = input_no_echo('What is the key for your safe? (If this is your first time using Pyssword, write your new key (password for the safe) now, and stick with it in the future)')\n",
    "\n",
    "def choose_mode():\n",
    "    global mode\n",
    "    print('Choose mode: \\n s to save a new password. \\n f to find password. \\n l to list all passwords.\\n d to delete a password.')\n",
    "    mode = input()"
   ]
  },
  {
   "cell_type": "code",
   "execution_count": null,
   "metadata": {},
   "outputs": [],
   "source": [
    "def process():\n",
    "    print('\\n')\n",
    "    if mode=='s': #Save a password.\n",
    "        #Load password dictionary from JSON file.\n",
    "        with open('storage.txt') as storage: #storage.txt must be JSON file. \n",
    "        #Just create a text file with the string '{}' in it if it's the first time using the safe.\n",
    "            pass_dict = json.load(storage)  #Fills dictionary with the JSON data.\n",
    "        #User inputs:\n",
    "        password = input_no_echo('What password do you want to save?')\n",
    "        service = input('What service/website is this password for?').lower() #All lower case.\n",
    "        service = service.replace(' ','') #Remove spaces.\n",
    "        #Encrypt password\n",
    "        encrypted = encrypt(password, key)\n",
    "        #Add new password to dictionary:\n",
    "        pass_dict.update({service : encrypted})\n",
    "        #Update JSON file:\n",
    "        with open('storage.txt', 'w') as storage: #storage.txt must be JSON file. \n",
    "            json.dump(pass_dict, storage)\n",
    "\n",
    "    elif mode=='f': #Find a password.\n",
    "        #Load password dictionary from JSON file.\n",
    "        with open('storage.txt') as storage: #storage.txt must be JSON file. \n",
    "        #Just create a text file with the string '{}' in it if it's the first time using the safe.\n",
    "            pass_dict = json.load(storage)  #Fills dictionary with the JSON data.\n",
    "        #User inputs:\n",
    "        service = input('What service/website is the password for?').lower() #All lower case.\n",
    "        service = service.replace(' ','') #Remove spaces.\n",
    "        #Find and decrypt password.\n",
    "        if service in pass_dict.keys():\n",
    "            password = decrypt(pass_dict[service], key) #Decrypt encrypted password.\n",
    "            print(password)\n",
    "        else:\n",
    "            print('Service not found.')\n",
    "\n",
    "    elif mode=='l': #List all passwords.\n",
    "        #Load password dictionary from JSON file.\n",
    "        with open('storage.txt') as storage: #storage.txt must be JSON file. \n",
    "            pass_dict = json.load(storage)  #Fills dictionary with the JSON data.\n",
    "        #Decrypt and print passwords (alphabetically on the services).\n",
    "        passwords = []\n",
    "        for service, encrypted in pass_dict.items():\n",
    "            passwords.append((service, decrypt(encrypted, key)))\n",
    "        sorted_pass = sorted(passwords, key = lambda tup: tup[0]) #Sorts alphabetically according to service.\n",
    "        for service, password in sorted_pass:\n",
    "            print('{}: {}'.format(service, password))\n",
    "\n",
    "    elif mode=='d': #Delete a password.\n",
    "        #Load password dictionary from JSON file.\n",
    "        with open('storage.txt') as storage: #storage.txt must be JSON file. \n",
    "            pass_dict = json.load(storage)  #Fills dictionary with the JSON data.\n",
    "        #User inputs:\n",
    "        service = input('What service/website is the password that you want to delete for?').lower() #All lower case.\n",
    "        service = service.replace(' ','') #Remove spaces.\n",
    "        #Delete dictionary entry.\n",
    "        if service in pass_dict.keys():\n",
    "            del pass_dict[service]\n",
    "        else:\n",
    "            print('Service not found.')\n",
    "        #Update JSON file:\n",
    "        with open('storage.txt', 'w') as storage: #storage.txt must be JSON file. \n",
    "            json.dump(pass_dict, storage)\n",
    "\n",
    "    else:\n",
    "        print('Not a valid mode.')\n",
    "    \n",
    "    print('\\n ======================================\\n     Back to mode choosing    \\n ======================================\\n')"
   ]
  },
  {
   "cell_type": "markdown",
   "metadata": {},
   "source": [
    "## The execution loop"
   ]
  },
  {
   "cell_type": "code",
   "execution_count": null,
   "metadata": {},
   "outputs": [],
   "source": [
    "initialize_safe()\n",
    "while True:\n",
    "    choose_mode()\n",
    "    process()"
   ]
  }
 ],
 "metadata": {
  "kernelspec": {
   "display_name": "Python 3",
   "language": "python",
   "name": "python3"
  },
  "language_info": {
   "codemirror_mode": {
    "name": "ipython",
    "version": 3
   },
   "file_extension": ".py",
   "mimetype": "text/x-python",
   "name": "python",
   "nbconvert_exporter": "python",
   "pygments_lexer": "ipython3",
   "version": "3.7.4"
  }
 },
 "nbformat": 4,
 "nbformat_minor": 4
}
